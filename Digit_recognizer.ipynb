{
 "cells": [
  {
   "cell_type": "markdown",
   "metadata": {},
   "source": [
    "## 1. Introduction"
   ]
  },
  {
   "cell_type": "code",
   "execution_count": 19,
   "metadata": {},
   "outputs": [],
   "source": [
    "# Import packages\n",
    "import numpy as np\n",
    "import pandas as pd\n",
    "import matplotlib.pyplot as plt\n",
    "import seaborn as sns"
   ]
  },
  {
   "cell_type": "code",
   "execution_count": 20,
   "metadata": {},
   "outputs": [],
   "source": [
    "# read csv files\n",
    "df_im_train = pd.read_csv('train.csv')\n",
    "df_im_test = pd.read_csv('test.csv')\n",
    "\n",
    "# values as numpy arrays\n",
    "arr_im_train = df_im_train.values\n",
    "arr_im_test = df_im_test.values"
   ]
  },
  {
   "cell_type": "code",
   "execution_count": 21,
   "metadata": {},
   "outputs": [
    {
     "name": "stdout",
     "output_type": "stream",
     "text": [
      "(42000, 785)\n",
      "(28000, 784)\n"
     ]
    }
   ],
   "source": [
    "# print shapes\n",
    "print(arr_im_train.shape)\n",
    "print(arr_im_test.shape)"
   ]
  },
  {
   "cell_type": "code",
   "execution_count": 24,
   "metadata": {},
   "outputs": [
    {
     "name": "stdout",
     "output_type": "stream",
     "text": [
      "1    4684\n",
      "7    4401\n",
      "3    4351\n",
      "9    4188\n",
      "2    4177\n",
      "6    4137\n",
      "0    4132\n",
      "4    4072\n",
      "8    4063\n",
      "5    3795\n",
      "Name: label, dtype: int64\n"
     ]
    },
    {
     "data": {
      "image/png": "[encoded data removed]",
      "text/plain": [
       "<Figure size 432x288 with 1 Axes>"
      ]
     },
     "metadata": {
      "needs_background": "light"
     },
     "output_type": "display_data"
    }
   ],
   "source": [
    "# print value counts for label column\n",
    "print(df_im_train['label'].value_counts())\n",
    "\n",
    "# visualize value_counts\n",
    "sns.countplot(data=df_im_train, x='label')\n",
    "plt.title('Label counts')\n",
    "plt.show()"
   ]
  },
  {
   "cell_type": "markdown",
   "metadata": {},
   "source": [
    "What do we have?\n",
    "* Each row of the training/test set represents one image, each column one of 784 (28x28) pixel.\n",
    "* The training set has an additional column (1st column) containing the labels (digits 0-9).\n",
    "* The labels are relatively evenly distributed, 1 having the highest count (4684) and 5 the lowest (3795).\n",
    "* Array can be reshaped so that they have the dimensions (m, n_x, n_y, n_z) where m is the number of images and n_x/n_y/n_z the number of pixel in x/y/z-direction."
   ]
  },
  {
   "cell_type": "code",
   "execution_count": 25,
   "metadata": {},
   "outputs": [
    {
     "name": "stdout",
     "output_type": "stream",
     "text": [
      "(42000, 28, 28, 1)\n",
      "(42000, 1)\n",
      "(28000, 28, 28, 1)\n"
     ]
    }
   ],
   "source": [
    "# reshape arrays\n",
    "Y_train = arr_im_train[:,0].reshape(-1,1)\n",
    "X_train = arr_im_train[:,1:]\n",
    "X_train = X_train.reshape((-1, 28, 28, 1))\n",
    "X_test = arr_im_test.reshape((-1, 28, 28, 1))\n",
    "\n",
    "# print shapes\n",
    "print(X_train.shape)\n",
    "print(Y_train.shape)\n",
    "print(X_test.shape)"
   ]
  },
  {
   "cell_type": "code",
   "execution_count": 37,
   "metadata": {},
   "outputs": [
    {
     "data": {
      "image/png": "[encoded data removed]",
      "text/plain": [
       "<Figure size 432x288 with 1 Axes>"
      ]
     },
     "metadata": {
      "needs_background": "light"
     },
     "output_type": "display_data"
    },
    {
     "name": "stdout",
     "output_type": "stream",
     "text": [
      "\n",
      "The label of this image is:  0\n"
     ]
    }
   ],
   "source": [
    "no_image = 10203\n",
    "plt.imshow(X_train[no_image, :, :, 0])\n",
    "plt.show()\n",
    "print('\\nThe label of this image is: ', Y_train[no_image, 0])"
   ]
  },
  {
   "cell_type": "code",
   "execution_count": null,
   "metadata": {},
   "outputs": [],
   "source": []
  }
 ],
 "metadata": {
  "kernelspec": {
   "display_name": "Python 3",
   "language": "python",
   "name": "python3"
  },
  "language_info": {
   "codemirror_mode": {
    "name": "ipython",
    "version": 3
   },
   "file_extension": ".py",
   "mimetype": "text/x-python",
   "name": "python",
   "nbconvert_exporter": "python",
   "pygments_lexer": "ipython3",
   "version": "3.8.3"
  }
 },
 "nbformat": 4,
 "nbformat_minor": 4
}
